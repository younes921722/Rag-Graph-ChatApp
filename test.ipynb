{
 "cells": [
  {
   "cell_type": "code",
   "execution_count": 3,
   "metadata": {},
   "outputs": [
    {
     "name": "stderr",
     "output_type": "stream",
     "text": [
      "C:\\Users\\U\\AppData\\Local\\Packages\\PythonSoftwareFoundation.Python.3.11_qbz5n2kfra8p0\\LocalCache\\local-packages\\Python311\\site-packages\\sentence_transformers\\cross_encoder\\CrossEncoder.py:11: TqdmExperimentalWarning: Using `tqdm.autonotebook.tqdm` in notebook mode. Use `tqdm.tqdm` instead to force console mode (e.g. in jupyter console)\n",
      "  from tqdm.autonotebook import tqdm, trange\n"
     ]
    }
   ],
   "source": [
    "from core import get_embedding, pdf_loader, data_spliter, load_into_vector_db, convert_to_graph, get_llm, store_graph, documents_spliter\n"
   ]
  },
  {
   "cell_type": "code",
   "execution_count": 4,
   "metadata": {},
   "outputs": [],
   "source": [
    "from langchain_core.documents import Document\n",
    "docs1 = \"UploadedFile(file_id='4496dfc8-ed1b-4b48-8175-9fe81c9eeb8b', name='List_of_Sahabah.pdf', type='application/pdf', size=270622, _file_urls=file_id: \""
   ]
  },
  {
   "cell_type": "code",
   "execution_count": 5,
   "metadata": {},
   "outputs": [],
   "source": [
    "splited_docs = documents_spliter(docs=docs1)"
   ]
  },
  {
   "cell_type": "code",
   "execution_count": 6,
   "metadata": {},
   "outputs": [],
   "source": [
    "docs  = splited_docs[0]"
   ]
  },
  {
   "cell_type": "code",
   "execution_count": 17,
   "metadata": {},
   "outputs": [
    {
     "name": "stdout",
     "output_type": "stream",
     "text": [
      "page_content='UploadedFile(file_id='4496dfc8-ed1b-4b48-8175-9fe81c9eeb8b', name='List_of_Sahabah.pdf', type='application/pdf', size=270622, _file_urls=file_id:'\n"
     ]
    }
   ],
   "source": [
    "print(docs)"
   ]
  },
  {
   "cell_type": "code",
   "execution_count": 7,
   "metadata": {},
   "outputs": [],
   "source": [
    "from core import convert_to_graph\n",
    "graph = convert_to_graph(documents=splited_docs)\n",
    "graph2 = convert_to_graph(documents=splited_docs)"
   ]
  },
  {
   "cell_type": "code",
   "execution_count": 8,
   "metadata": {},
   "outputs": [
    {
     "data": {
      "text/plain": [
       "[GraphDocument(nodes=[Node(id='Uploadedfile', type='File')], relationships=[Relationship(source=Node(id='Uploadedfile', type='File'), target=Node(id='4496Dfc8-Ed1B-4B48-8175-9Fe81C9Eeb8B', type='File_id'), type='HAS_FILE_ID')], source=Document(page_content=\"UploadedFile(file_id='4496dfc8-ed1b-4b48-8175-9fe81c9eeb8b', name='List_of_Sahabah.pdf', type='application/pdf', size=270622, _file_urls=file_id:\"))]"
      ]
     },
     "execution_count": 8,
     "metadata": {},
     "output_type": "execute_result"
    }
   ],
   "source": [
    "graph"
   ]
  },
  {
   "cell_type": "code",
   "execution_count": 22,
   "metadata": {},
   "outputs": [],
   "source": [
    "# Example documents\n",
    "documents = [\n",
    "    Document(page_content=\"Alice is friends with Bob. Bob works at Google.\"),\n",
    "    Document(page_content=\"Carol also works at Google. David is a manager at Google. Bob reports to David. Carol also reports to David.\")\n",
    "]\n",
    "\n",
    "# Generate graphs from documents\n",
    "graph1 = convert_to_graph([documents[0]])[0]\n",
    "graph2 = convert_to_graph([documents[1]])[0]\n",
    "\n"
   ]
  },
  {
   "cell_type": "code",
   "execution_count": 14,
   "metadata": {},
   "outputs": [
    {
     "data": {
      "text/plain": [
       "Document(page_content='Carol also works at Google. David is a manager at Google. Bob reports to David. Carol also reports to David.')"
      ]
     },
     "execution_count": 14,
     "metadata": {},
     "output_type": "execute_result"
    }
   ],
   "source": [
    "documents[1]"
   ]
  },
  {
   "cell_type": "code",
   "execution_count": 24,
   "metadata": {},
   "outputs": [
    {
     "data": {
      "text/plain": [
       "GraphDocument(nodes=[Node(id='Carol', type='Person'), Node(id='David', type='Person'), Node(id='Bob', type='Person'), Node(id='Google', type='Organization')], relationships=[Relationship(source=Node(id='Carol', type='Person'), target=Node(id='Google', type='Organization'), type='WORKS_AT'), Relationship(source=Node(id='David', type='Person'), target=Node(id='Google', type='Organization'), type='MANAGER_AT'), Relationship(source=Node(id='Bob', type='Person'), target=Node(id='David', type='Person'), type='REPORTS_TO'), Relationship(source=Node(id='Carol', type='Person'), target=Node(id='David', type='Person'), type='REPORTS_TO')], source=Document(page_content='Carol also works at Google. David is a manager at Google. Bob reports to David. Carol also reports to David.'))"
      ]
     },
     "execution_count": 24,
     "metadata": {},
     "output_type": "execute_result"
    }
   ],
   "source": [
    "graph2"
   ]
  },
  {
   "cell_type": "code",
   "execution_count": 25,
   "metadata": {},
   "outputs": [
    {
     "ename": "AttributeError",
     "evalue": "'GraphDocument' object has no attribute 'to_nx_graph'",
     "output_type": "error",
     "traceback": [
      "\u001b[1;31m---------------------------------------------------------------------------\u001b[0m",
      "\u001b[1;31mAttributeError\u001b[0m                            Traceback (most recent call last)",
      "Cell \u001b[1;32mIn[25], line 4\u001b[0m\n\u001b[0;32m      1\u001b[0m \u001b[38;5;66;03m# Combine the graphs (using NetworkX for easier manipulation)\u001b[39;00m\n\u001b[0;32m      2\u001b[0m \u001b[38;5;28;01mimport\u001b[39;00m \u001b[38;5;21;01mnetworkx\u001b[39;00m \u001b[38;5;28;01mas\u001b[39;00m \u001b[38;5;21;01mnx\u001b[39;00m\n\u001b[1;32m----> 4\u001b[0m combined_graph \u001b[38;5;241m=\u001b[39m nx\u001b[38;5;241m.\u001b[39mcompose(\u001b[43mgraph1\u001b[49m\u001b[38;5;241;43m.\u001b[39;49m\u001b[43mto_nx_graph\u001b[49m(), graph2\u001b[38;5;241m.\u001b[39mto_nx_graph())\n\u001b[0;32m      6\u001b[0m \u001b[38;5;66;03m# Convert back to LangChain Graph object (if needed)\u001b[39;00m\n\u001b[0;32m      7\u001b[0m \u001b[38;5;28;01mfrom\u001b[39;00m \u001b[38;5;21;01mlangchain\u001b[39;00m\u001b[38;5;21;01m.\u001b[39;00m\u001b[38;5;21;01mgraphs\u001b[39;00m\u001b[38;5;21;01m.\u001b[39;00m\u001b[38;5;21;01mnetworkx_graph\u001b[39;00m \u001b[38;5;28;01mimport\u001b[39;00m NetworkxGraph\n",
      "\u001b[1;31mAttributeError\u001b[0m: 'GraphDocument' object has no attribute 'to_nx_graph'"
     ]
    }
   ],
   "source": [
    "# Combine the graphs (using NetworkX for easier manipulation)\n",
    "import networkx as nx\n",
    "\n",
    "combined_graph = nx.compose(graph1.to_nx_graph(), graph2.to_nx_graph())\n",
    "\n",
    "# Convert back to LangChain Graph object (if needed)\n",
    "from langchain.graphs.networkx_graph import NetworkxGraph\n",
    "\n",
    "combined_langchain_graph = NetworkxGraph.from_nx_graph(combined_graph)"
   ]
  },
  {
   "cell_type": "code",
   "execution_count": null,
   "metadata": {},
   "outputs": [],
   "source": []
  }
 ],
 "metadata": {
  "kernelspec": {
   "display_name": "Python 3",
   "language": "python",
   "name": "python3"
  },
  "language_info": {
   "codemirror_mode": {
    "name": "ipython",
    "version": 3
   },
   "file_extension": ".py",
   "mimetype": "text/x-python",
   "name": "python",
   "nbconvert_exporter": "python",
   "pygments_lexer": "ipython3",
   "version": "3.11.undefined"
  }
 },
 "nbformat": 4,
 "nbformat_minor": 2
}
